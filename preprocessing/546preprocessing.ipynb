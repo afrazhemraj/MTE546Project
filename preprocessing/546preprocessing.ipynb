{
  "cells": [
    {
      "cell_type": "code",
      "execution_count": null,
      "metadata": {
        "colab": {
          "base_uri": "https://localhost:8080/"
        },
        "id": "Mi9WJN3Sj9xB",
        "outputId": "e73b509e-0ea2-4536-af06-fc2550423787"
      },
      "outputs": [
        {
          "name": "stdout",
          "output_type": "stream",
          "text": [
            "Drive already mounted at /content/drive; to attempt to forcibly remount, call drive.mount(\"/content/drive\", force_remount=True).\n"
          ]
        }
      ],
      "source": [
        "# STEP 1\n",
        "%pip install pandas numpy\n",
        "%pip install scipy\n",
        "from google.colab import drive\n",
        "drive.mount('/content/drive')"
      ]
    },
    {
      "cell_type": "code",
      "execution_count": null,
      "metadata": {
        "id": "uxc15X1-kVhV"
      },
      "outputs": [],
      "source": [
        "# STEP 2\n",
        "import pandas as pd\n",
        "import numpy as np\n",
        "from scipy.interpolate import interp1d"
      ]
    },
    {
      "cell_type": "code",
      "execution_count": null,
      "metadata": {
        "id": "zsTbjXoukW_w"
      },
      "outputs": [],
      "source": [
        "# STEP 3\n",
        "base_path = \"/content/drive/MyDrive/newdataset\"\n",
        "\n",
        "gt_path = f\"{base_path}/groundtruth_2013-01-10.csv\"\n",
        "odom_path = f\"{base_path}/odometry_mu_100hz.csv\"\n",
        "lidar_path = f\"{base_path}/lidar.csv\"\n",
        "output_path = f\"{base_path}/aligned_scans_final1.csv\""
      ]
    },
    {
      "cell_type": "code",
      "execution_count": null,
      "metadata": {
        "id": "46-R3Bgzkjz3"
      },
      "outputs": [],
      "source": [
        "# STEP 4\n",
        "gt = pd.read_csv(gt_path, header=None)[[0, 1, 2, 3, 4, 5, 6]]\n",
        "gt.columns = ['Time', 'GT_X', 'GT_Y', 'GT_Z', 'GT_Roll', 'GT_Pitch', 'GT_Yaw']\n",
        "gt = gt.sort_values('Time')\n",
        "\n",
        "odom = pd.read_csv(odom_path, header=None)[[0, 1, 2, 3, 4, 5, 6]]\n",
        "odom.columns = ['Time', 'Odom_X', 'Odom_Y', 'Odom_Z', 'Odom_Roll', 'Odom_Pitch', 'Odom_Yaw']\n",
        "odom = odom.sort_values('Time')\n",
        "\n",
        "lidar = pd.read_csv(lidar_path)[['utime', 'x', 'y']]\n",
        "lidar.columns = ['Time', 'LiDAR_X', 'LiDAR_Y']\n",
        "lidar = lidar.sort_values('Time').reset_index(drop=True)"
      ]
    },
    {
      "cell_type": "code",
      "execution_count": null,
      "metadata": {
        "id": "WI6VolK6kk4n"
      },
      "outputs": [],
      "source": [
        "# STEP 5\n",
        "min_gt_time, max_gt_time = gt['Time'].min(), gt['Time'].max()\n",
        "odom = odom[(odom['Time'] >= min_gt_time) & (odom['Time'] <= max_gt_time)]\n",
        "\n",
        "interp_axes = ['Odom_X', 'Odom_Y', 'Odom_Z', 'Odom_Roll', 'Odom_Pitch', 'Odom_Yaw']\n",
        "odom_interp = {\n",
        "    axis: interp1d(odom['Time'], odom[axis], kind='linear', fill_value=\"extrapolate\")\n",
        "    for axis in interp_axes\n",
        "}\n",
        "\n",
        "for axis in interp_axes:\n",
        "    gt[axis] = odom_interp[axis](gt['Time'])"
      ]
    },
    {
      "cell_type": "code",
      "execution_count": null,
      "metadata": {
        "id": "ZVbrrL_pkl-w"
      },
      "outputs": [],
      "source": [
        "# STEP 6\n",
        "lidar_scans = {}\n",
        "for t, group in lidar.groupby('Time'):\n",
        "    if len(group) == 1081:\n",
        "        lidar_scans[t] = group[['LiDAR_X', 'LiDAR_Y']].to_numpy()\n",
        "\n",
        "lidar_times = np.array(list(lidar_scans.keys()))\n",
        "used_lidar_times = set()"
      ]
    },
    {
      "cell_type": "code",
      "execution_count": null,
      "metadata": {
        "id": "wdfYylqQkneg"
      },
      "outputs": [],
      "source": [
        "# STEP 7\n",
        "output_rows = []\n",
        "\n",
        "for _, row in gt.iterrows():\n",
        "    gt_time = row['Time']\n",
        "\n",
        "    valid_times = [t for t in lidar_times if t >= min_gt_time and t not in used_lidar_times]\n",
        "    if not valid_times:\n",
        "        continue\n",
        "\n",
        "    closest_t = min(valid_times, key=lambda t: abs(t - gt_time))\n",
        "\n",
        "    if abs(closest_t - gt_time) > 1e6:\n",
        "        continue\n",
        "\n",
        "    scan = lidar_scans.get(closest_t)\n",
        "    if scan is None:\n",
        "        continue\n",
        "\n",
        "    used_lidar_times.add(closest_t)\n",
        "\n",
        "    lidar_x = scan[:, 0].tolist()\n",
        "    lidar_y = scan[:, 1].tolist()\n",
        "\n",
        "    output_rows.append({\n",
        "        'Time': gt_time,\n",
        "        'GT_X': row['GT_X'], 'GT_Y': row['GT_Y'], 'GT_Z': row['GT_Z'],\n",
        "        'GT_Roll': row['GT_Roll'], 'GT_Pitch': row['GT_Pitch'], 'GT_Yaw': row['GT_Yaw'],\n",
        "        'Odom_X': row['Odom_X'], 'Odom_Y': row['Odom_Y'], 'Odom_Z': row['Odom_Z'],\n",
        "        'Odom_Roll': row['Odom_Roll'], 'Odom_Pitch': row['Odom_Pitch'], 'Odom_Yaw': row['Odom_Yaw'],\n",
        "        'LiDAR_X': lidar_x,\n",
        "        'LiDAR_Y': lidar_y\n",
        "    })"
      ]
    },
    {
      "cell_type": "code",
      "execution_count": null,
      "metadata": {
        "colab": {
          "base_uri": "https://localhost:8080/"
        },
        "id": "uZ2jDSQnko4c",
        "outputId": "0f1f29aa-90ac-48da-d24a-497ceca549d1"
      },
      "outputs": [
        {
          "name": "stdout",
          "output_type": "stream",
          "text": [
            "✅ Done! Final output saved to: /content/drive/MyDrive/newdataset/aligned_scans_vectorized_with_angles.csv\n"
          ]
        }
      ],
      "source": [
        "# STEP 8\n",
        "final_df = pd.DataFrame(output_rows)\n",
        "final_df.to_csv(output_path, index=False)\n",
        "\n",
        "print(f\"✅ Done! Final output saved to: {output_path}\")"
      ]
    }
  ],
  "metadata": {
    "colab": {
      "provenance": []
    },
    "kernelspec": {
      "display_name": "Python 3",
      "name": "python3"
    },
    "language_info": {
      "name": "python"
    }
  },
  "nbformat": 4,
  "nbformat_minor": 0
}
